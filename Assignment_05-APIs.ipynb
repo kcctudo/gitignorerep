{
 "cells": [
  {
   "cell_type": "markdown",
   "metadata": {},
   "source": [
    "# Unit 5 - Financial Planning"
   ]
  },
  {
   "cell_type": "code",
   "execution_count": 1,
   "metadata": {},
   "outputs": [],
   "source": [
    "# Initial imports\n",
    "import os\n",
    "import requests\n",
    "import json\n",
    "import pandas as pd\n",
    "import numpy as np\n",
    "from dotenv import load_dotenv\n",
    "import alpaca_trade_api as tradeapi\n",
    "from matplotlib import pyplot as plt\n",
    "from MCForecastTools import MCSimulation\n",
    "\n",
    "%matplotlib inline"
   ]
  },
  {
   "cell_type": "code",
   "execution_count": 2,
   "metadata": {},
   "outputs": [
    {
     "data": {
      "text/plain": [
       "True"
      ]
     },
     "execution_count": 2,
     "metadata": {},
     "output_type": "execute_result"
    }
   ],
   "source": [
    "# Load .env enviroment variables\n",
    "load_dotenv()"
   ]
  },
  {
   "cell_type": "markdown",
   "metadata": {},
   "source": [
    "## Part 1 - Personal Finance Planner"
   ]
  },
  {
   "cell_type": "markdown",
   "metadata": {},
   "source": [
    "### Collect Crypto Prices Using the `requests` Library"
   ]
  },
  {
   "cell_type": "code",
   "execution_count": 3,
   "metadata": {},
   "outputs": [],
   "source": [
    "# Set current amount of crypto assets\n",
    "# YOUR CODE HERE!\n",
    "my_btc = 1.2\n",
    "my_eth = 5.3"
   ]
  },
  {
   "cell_type": "code",
   "execution_count": 4,
   "metadata": {},
   "outputs": [],
   "source": [
    "# Crypto API URLs\n",
    "btc_url = \"https://api.alternative.me/v2/ticker/Bitcoin/?convert=CAD\"\n",
    "eth_url = \"https://api.alternative.me/v2/ticker/Ethereum/?convert=CAD\""
   ]
  },
  {
   "cell_type": "code",
   "execution_count": 5,
   "metadata": {},
   "outputs": [
    {
     "name": "stdout",
     "output_type": "stream",
     "text": [
      "{\n",
      "    \"data\": {\n",
      "        \"1\": {\n",
      "            \"id\": 1,\n",
      "            \"name\": \"Bitcoin\",\n",
      "            \"symbol\": \"BTC\",\n",
      "            \"website_slug\": \"bitcoin\",\n",
      "            \"rank\": 1,\n",
      "            \"circulating_supply\": 18999012,\n",
      "            \"total_supply\": 18999012,\n",
      "            \"max_supply\": 21000000,\n",
      "            \"quotes\": {\n",
      "                \"USD\": {\n",
      "                    \"price\": 47044.0,\n",
      "                    \"volume_24h\": 23523550782,\n",
      "                    \"market_cap\": 893782982583,\n",
      "                    \"percentage_change_1h\": -0.736131944305178,\n",
      "                    \"percentage_change_24h\": 0.0793942206463718,\n",
      "                    \"percentage_change_7d\": 9.91133939915037,\n",
      "                    \"percent_change_1h\": -0.736131944305178,\n",
      "                    \"percent_change_24h\": 0.0793942206463718,\n",
      "                    \"percent_change_7d\": 9.91133939915037\n",
      "                },\n",
      "                \"CAD\": {\n",
      "                    \"price\": 58917.9056,\n",
      "                    \"volume_24h\": 29460894999.3768,\n",
      "                    \"market_cap\": 1119373807386.95,\n",
      "                    \"percent_change_1h\": -0.736131944305178,\n",
      "                    \"percent_change_24h\": 0.0793942206463718,\n",
      "                    \"percent_change_7d\": 9.91133939915037\n",
      "                }\n",
      "            },\n",
      "            \"last_updated\": 1648734132\n",
      "        }\n",
      "    },\n",
      "    \"metadata\": {\n",
      "        \"timestamp\": 1648734132,\n",
      "        \"num_cryptocurrencies\": 3105,\n",
      "        \"error\": null\n",
      "    }\n",
      "}\n",
      "{\n",
      "    \"data\": {\n",
      "        \"1027\": {\n",
      "            \"id\": 1027,\n",
      "            \"name\": \"Ethereum\",\n",
      "            \"symbol\": \"ETH\",\n",
      "            \"website_slug\": \"ethereum\",\n",
      "            \"rank\": 2,\n",
      "            \"circulating_supply\": 120186742,\n",
      "            \"total_supply\": 120186742,\n",
      "            \"max_supply\": 0,\n",
      "            \"quotes\": {\n",
      "                \"USD\": {\n",
      "                    \"price\": 3395.83,\n",
      "                    \"volume_24h\": 13753670364,\n",
      "                    \"market_cap\": 408439905618,\n",
      "                    \"percentage_change_1h\": -1.0462832070143,\n",
      "                    \"percentage_change_24h\": 0.724437149674487,\n",
      "                    \"percentage_change_7d\": 12.1167686793263,\n",
      "                    \"percent_change_1h\": -1.0462832070143,\n",
      "                    \"percent_change_24h\": 0.724437149674487,\n",
      "                    \"percent_change_7d\": 12.1167686793263\n",
      "                },\n",
      "                \"CAD\": {\n",
      "                    \"price\": 4252.937492,\n",
      "                    \"volume_24h\": 17225096763.8736,\n",
      "                    \"market_cap\": 511530137795.983,\n",
      "                    \"percent_change_1h\": -1.0462832070143,\n",
      "                    \"percent_change_24h\": 0.724437149674487,\n",
      "                    \"percent_change_7d\": 12.1167686793263\n",
      "                }\n",
      "            },\n",
      "            \"last_updated\": 1648734144\n",
      "        }\n",
      "    },\n",
      "    \"metadata\": {\n",
      "        \"timestamp\": 1648734144,\n",
      "        \"num_cryptocurrencies\": 3105,\n",
      "        \"error\": null\n",
      "    }\n",
      "}\n",
      "The current value of your 1.2 BTC is $70701.49\n",
      "The current value of your 5.3 ETH is $22540.57\n"
     ]
    }
   ],
   "source": [
    "# Fetch current BTC price\n",
    "# YOUR CODE HERE!\n",
    "my_btc_resp = requests.get(btc_url)\n",
    "my_btc_data = my_btc_resp.json()\n",
    "print(json.dumps(my_btc_data, indent=4))\n",
    "BTC = my_btc_data['data']['1']['quotes']['CAD']['price']\n",
    "# Fetch current ETH price\n",
    "# YOUR CODE HERE!\n",
    "my_eth_resp = requests.get(eth_url)\n",
    "my_eth_data = my_eth_resp.json()\n",
    "print(json.dumps(my_eth_data, indent=4))\n",
    "ETH = my_eth_data['data']['1027']['quotes']['CAD']['price']\n",
    "# Compute current value of my crpto\n",
    "# YOUR CODE HERE!\n",
    "my_btc_value = my_btc * BTC\n",
    "my_eth_value = my_eth * ETH\n",
    "# Print current crypto wallet balance\n",
    "print(f\"The current value of your {my_btc} BTC is ${my_btc_value:0.2f}\")\n",
    "print(f\"The current value of your {my_eth} ETH is ${my_eth_value:0.2f}\")"
   ]
  },
  {
   "cell_type": "markdown",
   "metadata": {},
   "source": [
    "### Collect Investments Data Using Alpaca: `SPY` (stocks) and `AGG` (bonds)"
   ]
  },
  {
   "cell_type": "code",
   "execution_count": 6,
   "metadata": {},
   "outputs": [],
   "source": [
    "# Set current amount of shares\n",
    "my_agg = 200\n",
    "my_spy = 50"
   ]
  },
  {
   "cell_type": "code",
   "execution_count": 7,
   "metadata": {},
   "outputs": [],
   "source": [
    "# Set Alpaca API key and secret\n",
    "# YOUR CODE HERE!\n",
    "alpaca_api_key = os.getenv(\"ALPACA_API_KEY\")\n",
    "alpaca_secret_key = os.getenv(\"ALPACA_SECRET_KEY\")\n",
    "\n",
    "# Create the Alpaca API object\n",
    "# YOUR CODE HERE!\n",
    "api = tradeapi.REST(alpaca_api_key,alpaca_secret_key,api_version=\"v2\")"
   ]
  },
  {
   "cell_type": "code",
   "execution_count": 8,
   "metadata": {},
   "outputs": [
    {
     "data": {
      "text/html": [
       "<div>\n",
       "<style scoped>\n",
       "    .dataframe tbody tr th:only-of-type {\n",
       "        vertical-align: middle;\n",
       "    }\n",
       "\n",
       "    .dataframe tbody tr th {\n",
       "        vertical-align: top;\n",
       "    }\n",
       "\n",
       "    .dataframe thead tr th {\n",
       "        text-align: left;\n",
       "    }\n",
       "\n",
       "    .dataframe thead tr:last-of-type th {\n",
       "        text-align: right;\n",
       "    }\n",
       "</style>\n",
       "<table border=\"1\" class=\"dataframe\">\n",
       "  <thead>\n",
       "    <tr>\n",
       "      <th></th>\n",
       "      <th colspan=\"7\" halign=\"left\">AGG</th>\n",
       "      <th colspan=\"7\" halign=\"left\">SPY</th>\n",
       "    </tr>\n",
       "    <tr>\n",
       "      <th></th>\n",
       "      <th>open</th>\n",
       "      <th>high</th>\n",
       "      <th>low</th>\n",
       "      <th>close</th>\n",
       "      <th>volume</th>\n",
       "      <th>trade_count</th>\n",
       "      <th>vwap</th>\n",
       "      <th>open</th>\n",
       "      <th>high</th>\n",
       "      <th>low</th>\n",
       "      <th>close</th>\n",
       "      <th>volume</th>\n",
       "      <th>trade_count</th>\n",
       "      <th>vwap</th>\n",
       "    </tr>\n",
       "    <tr>\n",
       "      <th>timestamp</th>\n",
       "      <th></th>\n",
       "      <th></th>\n",
       "      <th></th>\n",
       "      <th></th>\n",
       "      <th></th>\n",
       "      <th></th>\n",
       "      <th></th>\n",
       "      <th></th>\n",
       "      <th></th>\n",
       "      <th></th>\n",
       "      <th></th>\n",
       "      <th></th>\n",
       "      <th></th>\n",
       "      <th></th>\n",
       "    </tr>\n",
       "  </thead>\n",
       "  <tbody>\n",
       "    <tr>\n",
       "      <th>2022-03-21 04:00:00+00:00</th>\n",
       "      <td>107.58</td>\n",
       "      <td>107.649</td>\n",
       "      <td>106.9841</td>\n",
       "      <td>107.04</td>\n",
       "      <td>7583668</td>\n",
       "      <td>27316</td>\n",
       "      <td>107.310151</td>\n",
       "      <td>444.45</td>\n",
       "      <td>446.46</td>\n",
       "      <td>440.68</td>\n",
       "      <td>444.30</td>\n",
       "      <td>85377983</td>\n",
       "      <td>912432</td>\n",
       "      <td>443.796432</td>\n",
       "    </tr>\n",
       "    <tr>\n",
       "      <th>2022-03-22 04:00:00+00:00</th>\n",
       "      <td>106.74</td>\n",
       "      <td>106.880</td>\n",
       "      <td>106.6100</td>\n",
       "      <td>106.75</td>\n",
       "      <td>16048681</td>\n",
       "      <td>51796</td>\n",
       "      <td>106.746967</td>\n",
       "      <td>445.99</td>\n",
       "      <td>450.58</td>\n",
       "      <td>445.86</td>\n",
       "      <td>449.59</td>\n",
       "      <td>73674202</td>\n",
       "      <td>623610</td>\n",
       "      <td>448.558595</td>\n",
       "    </tr>\n",
       "    <tr>\n",
       "      <th>2022-03-23 04:00:00+00:00</th>\n",
       "      <td>106.96</td>\n",
       "      <td>107.210</td>\n",
       "      <td>106.7105</td>\n",
       "      <td>107.19</td>\n",
       "      <td>8567200</td>\n",
       "      <td>27348</td>\n",
       "      <td>106.991875</td>\n",
       "      <td>446.90</td>\n",
       "      <td>448.49</td>\n",
       "      <td>443.71</td>\n",
       "      <td>443.80</td>\n",
       "      <td>77982935</td>\n",
       "      <td>627281</td>\n",
       "      <td>446.058683</td>\n",
       "    </tr>\n",
       "    <tr>\n",
       "      <th>2022-03-24 04:00:00+00:00</th>\n",
       "      <td>106.72</td>\n",
       "      <td>107.035</td>\n",
       "      <td>106.6500</td>\n",
       "      <td>106.95</td>\n",
       "      <td>7378690</td>\n",
       "      <td>23320</td>\n",
       "      <td>106.879605</td>\n",
       "      <td>445.82</td>\n",
       "      <td>450.50</td>\n",
       "      <td>444.76</td>\n",
       "      <td>450.48</td>\n",
       "      <td>61411569</td>\n",
       "      <td>526865</td>\n",
       "      <td>447.609014</td>\n",
       "    </tr>\n",
       "    <tr>\n",
       "      <th>2022-03-25 04:00:00+00:00</th>\n",
       "      <td>106.65</td>\n",
       "      <td>106.650</td>\n",
       "      <td>105.9750</td>\n",
       "      <td>106.10</td>\n",
       "      <td>10295813</td>\n",
       "      <td>37569</td>\n",
       "      <td>106.190724</td>\n",
       "      <td>451.09</td>\n",
       "      <td>452.98</td>\n",
       "      <td>448.43</td>\n",
       "      <td>452.69</td>\n",
       "      <td>77199328</td>\n",
       "      <td>661033</td>\n",
       "      <td>451.047221</td>\n",
       "    </tr>\n",
       "  </tbody>\n",
       "</table>\n",
       "</div>"
      ],
      "text/plain": [
       "                              AGG                                       \\\n",
       "                             open     high       low   close    volume   \n",
       "timestamp                                                                \n",
       "2022-03-21 04:00:00+00:00  107.58  107.649  106.9841  107.04   7583668   \n",
       "2022-03-22 04:00:00+00:00  106.74  106.880  106.6100  106.75  16048681   \n",
       "2022-03-23 04:00:00+00:00  106.96  107.210  106.7105  107.19   8567200   \n",
       "2022-03-24 04:00:00+00:00  106.72  107.035  106.6500  106.95   7378690   \n",
       "2022-03-25 04:00:00+00:00  106.65  106.650  105.9750  106.10  10295813   \n",
       "\n",
       "                                                      SPY                  \\\n",
       "                          trade_count        vwap    open    high     low   \n",
       "timestamp                                                                   \n",
       "2022-03-21 04:00:00+00:00       27316  107.310151  444.45  446.46  440.68   \n",
       "2022-03-22 04:00:00+00:00       51796  106.746967  445.99  450.58  445.86   \n",
       "2022-03-23 04:00:00+00:00       27348  106.991875  446.90  448.49  443.71   \n",
       "2022-03-24 04:00:00+00:00       23320  106.879605  445.82  450.50  444.76   \n",
       "2022-03-25 04:00:00+00:00       37569  106.190724  451.09  452.98  448.43   \n",
       "\n",
       "                                                                     \n",
       "                            close    volume trade_count        vwap  \n",
       "timestamp                                                            \n",
       "2022-03-21 04:00:00+00:00  444.30  85377983      912432  443.796432  \n",
       "2022-03-22 04:00:00+00:00  449.59  73674202      623610  448.558595  \n",
       "2022-03-23 04:00:00+00:00  443.80  77982935      627281  446.058683  \n",
       "2022-03-24 04:00:00+00:00  450.48  61411569      526865  447.609014  \n",
       "2022-03-25 04:00:00+00:00  452.69  77199328      661033  451.047221  "
      ]
     },
     "execution_count": 8,
     "metadata": {},
     "output_type": "execute_result"
    }
   ],
   "source": [
    "# Format current date as ISO format\n",
    "# YOUR CODE HERE!\n",
    "\n",
    "# Set the tickers\n",
    "tickers = [\"AGG\", \"SPY\"]\n",
    "\n",
    "# Set timeframe to \"1Day\" for Alpaca API\n",
    "timeframe = \"1Day\"\n",
    "\n",
    "# Get current closing prices for SPY and AGG\n",
    "# YOUR CODE HERE!\n",
    "# lastbusday_obj = datetime.datetime.today()-BDay(1)\n",
    "# lastbusday_str = datetime.datetime.strptime(str(lastbusday_obj),'%Y-%m-%d %H:%M:%S')\n",
    "\n",
    "start_date = pd.Timestamp(\"2022-03-20\", tz=\"America/New_York\").isoformat()\n",
    "end_date = pd.Timestamp(\"2022-03-25\", tz=\"America/New_York\").isoformat()\n",
    "\n",
    "ticker_data = api.get_bars(tickers, timeframe, start=start_date, end=end_date).df\n",
    "\n",
    "# Reorganize the DataFrame\n",
    "# Separate ticker data\n",
    "# YOUR CODE HERE!\n",
    "AGG = ticker_data[ticker_data[\"symbol\"]==\"AGG\"].drop(\"symbol\", axis=1)\n",
    "SPY = ticker_data[ticker_data[\"symbol\"]==\"SPY\"].drop(\"symbol\", axis=1)\n",
    "\n",
    "# Concatenate the ticker DataFrames\n",
    "# YOUR CODE HERE!\n",
    "ticker_data = pd.concat([AGG,SPY], axis=1, keys=[\"AGG\",\"SPY\"])\n",
    "# Preview DataFrame\n",
    "# YOUR CODE HERE!\n",
    "ticker_data.head()"
   ]
  },
  {
   "cell_type": "code",
   "execution_count": 9,
   "metadata": {},
   "outputs": [
    {
     "name": "stdout",
     "output_type": "stream",
     "text": [
      "Current AGG closing price: $106.1\n",
      "Current SPY closing price: $452.69\n"
     ]
    }
   ],
   "source": [
    "# Pick AGG and SPY close prices\n",
    "# YOUR CODE HERE!\n",
    "\n",
    "agg_close_price = ticker_data[\"AGG\"][\"close\"][-1]\n",
    "spy_close_price = ticker_data[\"SPY\"][\"close\"][-1]\n",
    "\n",
    "# Print AGG and SPY close prices\n",
    "print(f\"Current AGG closing price: ${agg_close_price}\")\n",
    "print(f\"Current SPY closing price: ${spy_close_price}\")"
   ]
  },
  {
   "cell_type": "code",
   "execution_count": 10,
   "metadata": {},
   "outputs": [
    {
     "name": "stdout",
     "output_type": "stream",
     "text": [
      "The current value of your 50 SPY shares is $22634.50\n",
      "The current value of your 200 AGG shares is $21220.00\n"
     ]
    }
   ],
   "source": [
    "# Compute the current value of shares\n",
    "# YOUR CODE HERE!\n",
    "\n",
    "my_spy_value = my_spy * spy_close_price\n",
    "my_agg_value = my_agg * agg_close_price\n",
    "\n",
    "# Print current value of shares\n",
    "print(f\"The current value of your {my_spy} SPY shares is ${my_spy_value:0.2f}\")\n",
    "print(f\"The current value of your {my_agg} AGG shares is ${my_agg_value:0.2f}\")"
   ]
  },
  {
   "cell_type": "markdown",
   "metadata": {},
   "source": [
    "### Savings Health Analysis"
   ]
  },
  {
   "cell_type": "code",
   "execution_count": 11,
   "metadata": {},
   "outputs": [
    {
     "data": {
      "text/html": [
       "<div>\n",
       "<style scoped>\n",
       "    .dataframe tbody tr th:only-of-type {\n",
       "        vertical-align: middle;\n",
       "    }\n",
       "\n",
       "    .dataframe tbody tr th {\n",
       "        vertical-align: top;\n",
       "    }\n",
       "\n",
       "    .dataframe thead th {\n",
       "        text-align: right;\n",
       "    }\n",
       "</style>\n",
       "<table border=\"1\" class=\"dataframe\">\n",
       "  <thead>\n",
       "    <tr style=\"text-align: right;\">\n",
       "      <th></th>\n",
       "      <th>amount</th>\n",
       "    </tr>\n",
       "  </thead>\n",
       "  <tbody>\n",
       "    <tr>\n",
       "      <th>crypto</th>\n",
       "      <td>93242.055428</td>\n",
       "    </tr>\n",
       "    <tr>\n",
       "      <th>shares</th>\n",
       "      <td>43854.500000</td>\n",
       "    </tr>\n",
       "  </tbody>\n",
       "</table>\n",
       "</div>"
      ],
      "text/plain": [
       "              amount\n",
       "crypto  93242.055428\n",
       "shares  43854.500000"
      ]
     },
     "metadata": {},
     "output_type": "display_data"
    }
   ],
   "source": [
    "# Set monthly household income\n",
    "# YOUR CODE HERE!\n",
    "monthly_income = 12000\n",
    "# Consolidate financial assets data\n",
    "# YOUR CODE HERE!\n",
    "crypto_value = my_btc_value + my_eth_value\n",
    "shares_value = my_spy_value + my_agg_value\n",
    "# Create savings DataFrame\n",
    "# YOUR CODE HERE!\n",
    "df_savings = pd.DataFrame([crypto_value, shares_value], columns=['amount'], index=['crypto','shares'])\n",
    "# Display savings DataFrame\n",
    "display(df_savings)"
   ]
  },
  {
   "cell_type": "code",
   "execution_count": 12,
   "metadata": {},
   "outputs": [
    {
     "data": {
      "text/plain": [
       "pandas.core.series.Series"
      ]
     },
     "execution_count": 12,
     "metadata": {},
     "output_type": "execute_result"
    }
   ],
   "source": [
    "type(df_savings['amount'])"
   ]
  },
  {
   "cell_type": "code",
   "execution_count": null,
   "metadata": {},
   "outputs": [],
   "source": [
    "# Plot savings pie chart\n",
    "# YOUR CODE HERE!\n",
    "savings_amount = df_savings['amount']\n",
    "def act_value(val)\n",
    "    a  = numpy.round(val/100.*savings_amount.sum(), 0)\n",
    "    return a\n",
    "plt.pie(df_savings['amount'],labels = ['crypto','shares'], autopct=act_value)"
   ]
  },
  {
   "cell_type": "code",
   "execution_count": null,
   "metadata": {},
   "outputs": [],
   "source": [
    "# Set ideal emergency fund\n",
    "emergency_fund = monthly_income * 3\n",
    "\n",
    "# Calculate total amount of savings\n",
    "# YOUR CODE HERE!\n",
    "total_savings = np.sum(df_savings['amount'])\n",
    "# Validate saving health\n",
    "# YOUR CODE HERE!\n",
    "if total_savings > emergency_fund:\n",
    "    print(\"Congrat!! you have enough money in the fund\")\n",
    "elif total_savings == emergency_fund:\n",
    "    print(\"You've reached this financial goal\")\n",
    "else:\n",
    "    print(f\"You're {total_savings-emergency_fund} away from reaching the goal\")\n",
    "    "
   ]
  },
  {
   "cell_type": "markdown",
   "metadata": {},
   "source": [
    "## Part 2 - Retirement Planning\n",
    "\n",
    "### Monte Carlo Simulation"
   ]
  },
  {
   "cell_type": "code",
   "execution_count": null,
   "metadata": {},
   "outputs": [],
   "source": [
    "# Set start and end dates of five years back from today.\n",
    "# Sample results may vary from the solution based on the time frame chosen\n",
    "start_date = pd.Timestamp('2016-05-01', tz='America/New_York').isoformat()\n",
    "end_date = pd.Timestamp('2021-05-01', tz='America/New_York').isoformat()"
   ]
  },
  {
   "cell_type": "code",
   "execution_count": null,
   "metadata": {},
   "outputs": [],
   "source": [
    "# Get 5 years' worth of historical data for SPY and AGG\n",
    "# YOUR CODE HERE!\n",
    "\n",
    "ticker_data = api.get_bars(tickers, timeframe, start=start_date, end=end_date).df\n",
    "\n",
    "# Reorganize the DataFrame\n",
    "# Separate ticker data\n",
    "# YOUR CODE HERE!\n",
    "AGG = ticker_data[ticker_data[\"symbol\"]==\"AGG\"].drop(\"symbol\", axis=1)\n",
    "SPY = ticker_data[ticker_data[\"symbol\"]==\"SPY\"].drop(\"symbol\", axis=1)\n",
    "\n",
    "# Concatenate the ticker DataFrames\n",
    "# YOUR CODE HERE!\n",
    "df_stock_data = pd.concat([AGG,SPY], axis=1, keys=[\"AGG\",\"SPY\"])\n",
    "# Display sample data\n",
    "df_stock_data.head()"
   ]
  },
  {
   "cell_type": "code",
   "execution_count": null,
   "metadata": {},
   "outputs": [],
   "source": [
    "# Configuring a Monte Carlo simulation to forecast 30 years cumulative returns\n",
    "# YOUR CODE HERE!\n",
    "\n",
    "MC_stkbond_dist = MCSimulation(\n",
    "    portfolio_data = df_stock_data,\n",
    "    weights = [0.6,0.4],\n",
    "    num_simulation = 500,\n",
    "    num_trading_days = 252*30\n",
    ")\n",
    "\n"
   ]
  },
  {
   "cell_type": "code",
   "execution_count": null,
   "metadata": {},
   "outputs": [],
   "source": [
    "# Printing the simulation input data\n",
    "# YOUR CODE HERE!\n",
    "MC_stkbond_dist.portfolio_data.head()"
   ]
  },
  {
   "cell_type": "code",
   "execution_count": null,
   "metadata": {
    "scrolled": false
   },
   "outputs": [],
   "source": [
    "# Running a Monte Carlo simulation to forecast 30 years cumulative returns\n",
    "# YOUR CODE HERE!\n",
    "MC_stkbond_dist.calc_cumulative_return()"
   ]
  },
  {
   "cell_type": "code",
   "execution_count": null,
   "metadata": {},
   "outputs": [],
   "source": [
    "# Plot simulation outcomes\n",
    "# YOUR CODE HERE!\n",
    "line_plot = MC_stkbond_dist.plot_simulation()"
   ]
  },
  {
   "cell_type": "code",
   "execution_count": null,
   "metadata": {},
   "outputs": [],
   "source": [
    "# Plot probability distribution and confidence intervals\n",
    "# YOUR CODE HERE!\n",
    "dist_plot = MC_stkbond_dist.plot_distribution()"
   ]
  },
  {
   "cell_type": "markdown",
   "metadata": {},
   "source": [
    "### Retirement Analysis"
   ]
  },
  {
   "cell_type": "code",
   "execution_count": null,
   "metadata": {},
   "outputs": [],
   "source": [
    "# Fetch summary statistics from the Monte Carlo simulation results\n",
    "# YOUR CODE HERE!\n",
    "\n",
    "stkbond_tbl = MC_stkbond_dist.summarize_cumulative_return()\n",
    "# Print summary statistics\n",
    "# YOUR CODE HERE!\n",
    "print(stkbond_tbl)"
   ]
  },
  {
   "cell_type": "markdown",
   "metadata": {},
   "source": [
    "### Calculate the expected portfolio return at the `95%` lower and upper confidence intervals based on a `$20,000` initial investment."
   ]
  },
  {
   "cell_type": "code",
   "execution_count": null,
   "metadata": {},
   "outputs": [],
   "source": [
    "# Set initial investment\n",
    "initial_investment = 20000\n",
    "\n",
    "# Use the lower and upper `95%` confidence intervals to calculate the range of the possible outcomes of our $20,000\n",
    "# YOUR CODE HERE!\n",
    "ci_lower = round(stkbond_tbl[8]*initial_investment,2)\n",
    "ci_upper = round(stkbond_tbl[9]*initial_investment,2)\n",
    "\n",
    "\n",
    "# Print results\n",
    "print(f\"There is a 95% chance that an initial investment of ${initial_investment} in the portfolio\"\n",
    "      f\" over the next 30 years will end within in the range of\"\n",
    "      f\" ${ci_lower} and ${ci_upper}\")"
   ]
  },
  {
   "cell_type": "markdown",
   "metadata": {},
   "source": [
    "### Calculate the expected portfolio return at the `95%` lower and upper confidence intervals based on a `50%` increase in the initial investment."
   ]
  },
  {
   "cell_type": "code",
   "execution_count": null,
   "metadata": {},
   "outputs": [],
   "source": [
    "# Set initial investment\n",
    "initial_investment = 20000 * 1.5\n",
    "\n",
    "# Use the lower and upper `95%` confidence intervals to calculate the range of the possible outcomes of our $30,000\n",
    "# YOUR CODE HERE!\n",
    "\n",
    "# Print results\n",
    "print(f\"There is a 95% chance that an initial investment of ${initial_investment} in the portfolio\"\n",
    "      f\" over the next 30 years will end within in the range of\"\n",
    "      f\" ${ci_lower} and ${ci_upper}\")"
   ]
  },
  {
   "cell_type": "markdown",
   "metadata": {},
   "source": [
    "## Optional Challenge - Early Retirement\n",
    "\n",
    "\n",
    "### Five Years Retirement Option"
   ]
  },
  {
   "cell_type": "code",
   "execution_count": null,
   "metadata": {},
   "outputs": [],
   "source": [
    "# Configuring a Monte Carlo simulation to forecast 5 years cumulative returns\n",
    "# YOUR CODE HERE!\n",
    "MC_stkbond_dist = MCSimulation(\n",
    "    portfolio_data = df_stock_data,\n",
    "    weights = [0.8,0.2],\n",
    "    num_simulation = 500,\n",
    "    num_trading_days = 252*5\n",
    ")"
   ]
  },
  {
   "cell_type": "code",
   "execution_count": null,
   "metadata": {},
   "outputs": [],
   "source": [
    "# Running a Monte Carlo simulation to forecast 5 years cumulative returns\n",
    "# YOUR CODE HERE!\n",
    "\n",
    "MC_stkbond_dist.calc_cumulative_return()"
   ]
  },
  {
   "cell_type": "code",
   "execution_count": null,
   "metadata": {},
   "outputs": [],
   "source": [
    "# Plot simulation outcomes\n",
    "# YOUR CODE HERE!\n",
    "\n",
    "line_plot = MC_stkbond_dist.plot_simulation()"
   ]
  },
  {
   "cell_type": "code",
   "execution_count": null,
   "metadata": {},
   "outputs": [],
   "source": [
    "# Plot probability distribution and confidence intervals\n",
    "# YOUR CODE HERE!\n",
    "dist_plot = MC_stkbond_dist.plot_distribution()"
   ]
  },
  {
   "cell_type": "code",
   "execution_count": null,
   "metadata": {},
   "outputs": [],
   "source": [
    "# Fetch summary statistics from the Monte Carlo simulation results\n",
    "# YOUR CODE HERE!\n",
    "stkbond_tbl = MC_stkbond_dist.summarize_cumulative_return()\n",
    "# Print summary statistics\n",
    "# YOUR CODE HERE!\n",
    "print(stkbond_tbl)"
   ]
  },
  {
   "cell_type": "code",
   "execution_count": null,
   "metadata": {},
   "outputs": [],
   "source": [
    "# Set initial investment\n",
    "# YOUR CODE HERE!\n",
    "initial_investment = 60000\n",
    "# Use the lower and upper `95%` confidence intervals to calculate the range of the possible outcomes of our $60,000\n",
    "# YOUR CODE HERE!\n",
    "ci_lower_five = round(stkbond_tbl[8]*initial_investment,2)\n",
    "ci_upper_five = round(stkbond_tbl[9]*initial_investment,2)\n",
    "\n",
    "\n",
    "# Print results\n",
    "print(f\"There is a 95% chance that an initial investment of ${initial_investment} in the portfolio\"\n",
    "      f\" over the next 5 years will end within in the range of\"\n",
    "      f\" ${ci_lower_five} and ${ci_upper_five}\")"
   ]
  },
  {
   "cell_type": "markdown",
   "metadata": {},
   "source": [
    "### Ten Years Retirement Option"
   ]
  },
  {
   "cell_type": "code",
   "execution_count": null,
   "metadata": {},
   "outputs": [],
   "source": [
    "# Configuring a Monte Carlo simulation to forecast 10 years cumulative returns\n",
    "# YOUR CODE HERE!\n",
    "MC_stkbond_dist = MCSimulation(\n",
    "    portfolio_data = df_stock_data,\n",
    "    weights = [0.7,0.3],\n",
    "    num_simulation = 500,\n",
    "    num_trading_days = 252*10\n",
    ")    "
   ]
  },
  {
   "cell_type": "code",
   "execution_count": null,
   "metadata": {},
   "outputs": [],
   "source": [
    "# Running a Monte Carlo simulation to forecast 10 years cumulative returns\n",
    "# YOUR CODE HERE!\n",
    "MC_stkbond_dist.calc_cumulative_return()"
   ]
  },
  {
   "cell_type": "code",
   "execution_count": null,
   "metadata": {},
   "outputs": [],
   "source": [
    "# Plot simulation outcomes\n",
    "# YOUR CODE HERE!\n",
    "line_plot = MC_stkbond_dist.plot_simulation()"
   ]
  },
  {
   "cell_type": "code",
   "execution_count": null,
   "metadata": {},
   "outputs": [],
   "source": [
    "# Plot probability distribution and confidence intervals\n",
    "# YOUR CODE HERE!\n",
    "dist_plot = MC_stkbond_dist.plot_distribution()"
   ]
  },
  {
   "cell_type": "code",
   "execution_count": null,
   "metadata": {},
   "outputs": [],
   "source": [
    "# Fetch summary statistics from the Monte Carlo simulation results\n",
    "# YOUR CODE HERE!\n",
    "stkbond_tbl = MC_stkbond_dist.summarize_cumulative_return()\n",
    "# Print summary statistics\n",
    "# YOUR CODE HERE!\n",
    "print(stkbond_tbl)"
   ]
  },
  {
   "cell_type": "code",
   "execution_count": null,
   "metadata": {},
   "outputs": [],
   "source": [
    "# Set initial investment\n",
    "# YOUR CODE HERE!\n",
    "initial_investment = 60000\n",
    "# Use the lower and upper `95%` confidence intervals to calculate the range of the possible outcomes of our $60,000\n",
    "# YOUR CODE HERE!\n",
    "ci_lower_ten = round(stkbond_tbl[8]*initial_investment,2)\n",
    "ci_upper_ten = round(stkbond_tbl[9]*initial_investment,2)\n",
    "\n",
    "\n",
    "# Print results\n",
    "print(f\"There is a 95% chance that an initial investment of ${initial_investment} in the portfolio\"\n",
    "      f\" over the next 10 years will end within in the range of\"\n",
    "      f\" ${ci_lower_ten} and ${ci_upper_ten}\")"
   ]
  },
  {
   "cell_type": "code",
   "execution_count": null,
   "metadata": {},
   "outputs": [],
   "source": []
  }
 ],
 "metadata": {
  "kernelspec": {
   "display_name": "Python 3 (ipykernel)",
   "language": "python",
   "name": "python3"
  },
  "language_info": {
   "codemirror_mode": {
    "name": "ipython",
    "version": 3
   },
   "file_extension": ".py",
   "mimetype": "text/x-python",
   "name": "python",
   "nbconvert_exporter": "python",
   "pygments_lexer": "ipython3",
   "version": "3.8.12"
  },
  "nteract": {
   "version": "0.28.0"
  }
 },
 "nbformat": 4,
 "nbformat_minor": 4
}
